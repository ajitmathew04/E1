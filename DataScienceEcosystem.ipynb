{
 "cells": [
  {
   "cell_type": "markdown",
   "id": "4e790bd0-49f1-4a4d-8ef4-89d40670c246",
   "metadata": {},
   "source": [
    "# Data Science Tools and Ecosystem"
   ]
  },
  {
   "cell_type": "markdown",
   "id": "70ec9ff2-1609-4764-a165-63cdbb90661d",
   "metadata": {},
   "source": [
    "In this notebook, Data Science Tools and Ecosystem are summarized."
   ]
  },
  {
   "cell_type": "markdown",
   "id": "4ddc5211-9fb1-4da7-861e-4cc7a6a8b631",
   "metadata": {},
   "source": [
    "**Objectives:**\n",
    "+ Python\n",
    "+ Java\n",
    "+ C++\n",
    "+ R\n",
    "+ SQL  "
   ]
  },
  {
   "cell_type": "markdown",
   "id": "05804f52-97bc-4af4-9e16-fab6ee8046d0",
   "metadata": {},
   "source": [
    "## Some of the popular languages that Data Scientists use are:\n",
    "\n",
    "1. Python\n",
    "2. R\n",
    "3. SQL\n",
    "4. Julia\n",
    "5. Java"
   ]
  },
  {
   "cell_type": "markdown",
   "id": "e93b1aa3-0bfb-4f67-8a05-26cb55d531a8",
   "metadata": {},
   "source": [
    "## Some of the commonly used libraries used by Data Scientists include:\n",
    "\n",
    "1. NumPy\n",
    "2. Pandas\n",
    "3. Scikit-learn\n",
    "4. Matplotlib\n",
    "5. Plotly\n",
    "6. Scipy"
   ]
  },
  {
   "cell_type": "markdown",
   "id": "ce353aff-bcca-4d5b-aa56-20a44cbe7b1c",
   "metadata": {},
   "source": [
    "\n",
    "|Data Science Tools|\n",
    "|------------------|\n",
    "|RStudio|\n",
    "|JupyterLab|\n",
    "|Jupyter Notebook|\n",
    "|Visual Studio Code|\n",
    "|Spyder|"
   ]
  },
  {
   "cell_type": "markdown",
   "id": "35a2a660-2c7b-4911-9419-bbc39e06b4e5",
   "metadata": {},
   "source": [
    "### Below are a few examples of evaluating arithmetic expressions in Python"
   ]
  },
  {
   "cell_type": "code",
   "execution_count": 38,
   "id": "4bf68c34-bb8c-42f2-87b2-5031eea88ea0",
   "metadata": {},
   "outputs": [
    {
     "name": "stdout",
     "output_type": "stream",
     "text": [
      "14\n"
     ]
    }
   ],
   "source": [
    "result = 2 + 3 * 4\n",
    "print(result)"
   ]
  },
  {
   "cell_type": "code",
   "execution_count": 42,
   "id": "db68e7b1-3718-4823-8bd9-0e85978e984b",
   "metadata": {},
   "outputs": [
    {
     "name": "stdout",
     "output_type": "stream",
     "text": [
      "17\n"
     ]
    }
   ],
   "source": [
    "# This a simple arithmetic expression to mutiply then add integers\n",
    "A=(3*4)+5\n",
    "print(A)"
   ]
  },
  {
   "cell_type": "code",
   "execution_count": 46,
   "id": "b01fc4b2-5ec4-46f2-92cb-b23a8f9688db",
   "metadata": {},
   "outputs": [
    {
     "name": "stdout",
     "output_type": "stream",
     "text": [
      "3.3333333333333335\n"
     ]
    }
   ],
   "source": [
    "#This will convert 200 minutes to hours by diving by 60\n",
    "minutes=200\n",
    "Hour=minutes/60\n",
    "print(Hour)"
   ]
  },
  {
   "cell_type": "markdown",
   "id": "6d1ac0af-6049-4351-bae4-ec51c04f1bce",
   "metadata": {},
   "source": [
    " ## Author\n",
    " Ajit Mathew"
   ]
  },
  {
   "cell_type": "code",
   "execution_count": null,
   "id": "72ac10c7-6e6a-455c-a9e0-2a6977b69bf8",
   "metadata": {},
   "outputs": [],
   "source": []
  }
 ],
 "metadata": {
  "kernelspec": {
   "display_name": "Python 3 (ipykernel)",
   "language": "python",
   "name": "python3"
  },
  "language_info": {
   "codemirror_mode": {
    "name": "ipython",
    "version": 3
   },
   "file_extension": ".py",
   "mimetype": "text/x-python",
   "name": "python",
   "nbconvert_exporter": "python",
   "pygments_lexer": "ipython3",
   "version": "3.12.4"
  }
 },
 "nbformat": 4,
 "nbformat_minor": 5
}
